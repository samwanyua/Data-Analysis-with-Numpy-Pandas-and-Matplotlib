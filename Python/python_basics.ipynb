{
 "cells": [
  {
   "cell_type": "code",
   "execution_count": 3,
   "metadata": {},
   "outputs": [
    {
     "name": "stdout",
     "output_type": "stream",
     "text": [
      "Hello  Sam, we are happy to have you!\n",
      "Hello  Obed, we are happy to have you!\n",
      "Hello  Steve, we are happy to have you!\n",
      "Hello  Kiarie, we are happy to have you!\n",
      "Hello  Martha, we are happy to have you!\n"
     ]
    }
   ],
   "source": [
    "names = [\"Sam\", \"Obed\", \"Steve\", \"Kiarie\", \"Martha\"]\n",
    "\n",
    "for name in names:\n",
    "    print(f\"Hello  {name}, we are happy to have you!\")"
   ]
  },
  {
   "cell_type": "code",
   "execution_count": null,
   "metadata": {},
   "outputs": [],
   "source": []
  }
 ],
 "metadata": {
  "kernelspec": {
   "display_name": "env",
   "language": "python",
   "name": "python3"
  },
  "language_info": {
   "codemirror_mode": {
    "name": "ipython",
    "version": 3
   },
   "file_extension": ".py",
   "mimetype": "text/x-python",
   "name": "python",
   "nbconvert_exporter": "python",
   "pygments_lexer": "ipython3",
   "version": "3.13.0"
  }
 },
 "nbformat": 4,
 "nbformat_minor": 2
}
