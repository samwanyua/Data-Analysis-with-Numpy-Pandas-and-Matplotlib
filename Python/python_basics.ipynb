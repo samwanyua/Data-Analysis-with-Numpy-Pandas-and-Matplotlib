{
 "cells": [
  {
   "cell_type": "code",
   "execution_count": 3,
   "metadata": {},
   "outputs": [
    {
     "name": "stdout",
     "output_type": "stream",
     "text": [
      "Hello  Sam, we are happy to have you!\n",
      "Hello  Obed, we are happy to have you!\n",
      "Hello  Steve, we are happy to have you!\n",
      "Hello  Kiarie, we are happy to have you!\n",
      "Hello  Martha, we are happy to have you!\n"
     ]
    }
   ],
   "source": [
    "names = [\"Sam\", \"Obed\", \"Steve\", \"Kiarie\", \"Martha\"]\n",
    "\n",
    "for name in names:\n",
    "    print(f\"Hello  {name}, we are happy to have you!\")"
   ]
  },
  {
   "cell_type": "markdown",
   "metadata": {},
   "source": [
    "### Lists"
   ]
  },
  {
   "cell_type": "code",
   "execution_count": 5,
   "metadata": {},
   "outputs": [
    {
     "name": "stdout",
     "output_type": "stream",
     "text": [
      "[]\n",
      "['Sam']\n"
     ]
    }
   ],
   "source": [
    "new_list = []\n",
    "names = list()\n",
    "print(names)\n",
    "names.append(\"Sam\")\n",
    "print(names)"
   ]
  },
  {
   "cell_type": "code",
   "execution_count": 9,
   "metadata": {},
   "outputs": [
    {
     "name": "stdout",
     "output_type": "stream",
     "text": [
      "False\n",
      "True\n",
      "['red', 'blue', 'purple', 'green', 'yellow']\n"
     ]
    }
   ],
   "source": [
    "colors = [\"red\", \"blue\", \"green\", \"yellow\"]\n",
    "print(\"White\" in colors)\n",
    "print(\"red\" in colors)\n",
    "colors.insert(2, \"purple\")\n",
    "print(colors)"
   ]
  },
  {
   "cell_type": "code",
   "execution_count": 10,
   "metadata": {},
   "outputs": [
    {
     "name": "stdout",
     "output_type": "stream",
     "text": [
      "red\n",
      "blue\n",
      "purple\n",
      "green\n",
      "yellow\n"
     ]
    }
   ],
   "source": [
    "for color in colors:\n",
    "    print(color)"
   ]
  },
  {
   "cell_type": "code",
   "execution_count": 11,
   "metadata": {},
   "outputs": [
    {
     "name": "stdout",
     "output_type": "stream",
     "text": [
      "['red']\n"
     ]
    }
   ],
   "source": [
    "print(colors[:1])"
   ]
  },
  {
   "cell_type": "code",
   "execution_count": null,
   "metadata": {},
   "outputs": [],
   "source": [
    "# Creating a tuple\n",
    "fruits = (\"apple\", \"banana\", \"cherry\")\n",
    "print(fruits)  # Output: ('apple', 'banana', 'cherry')\n",
    "\n",
    "# Accessing an item by index\n",
    "print(fruits[1])  # Output: 'banana'\n",
    "\n",
    "# Tuples are immutable, so you cannot add or remove items\n",
    "# fruits.append(\"orange\")  # This will raise an AttributeError"
   ]
  },
  {
   "cell_type": "code",
   "execution_count": null,
   "metadata": {},
   "outputs": [],
   "source": [
    "# Creating a list\n",
    "fruits = [\"apple\", \"banana\", \"cherry\"]\n",
    "print(fruits)  # Output: ['apple', 'banana', 'cherry']\n",
    "\n",
    "# Adding an item to the list\n",
    "fruits.append(\"orange\")\n",
    "print(fruits)  # Output: ['apple', 'banana', 'cherry', 'orange']\n",
    "\n",
    "# Accessing an item by index\n",
    "print(fruits[1])  # Output: 'banana'\n",
    "\n",
    "# Removing an item from the list\n",
    "fruits.remove(\"banana\")\n",
    "print(fruits)  # Output: ['apple', 'cherry', 'orange']\n",
    "\n"
   ]
  },
  {
   "cell_type": "code",
   "execution_count": null,
   "metadata": {},
   "outputs": [],
   "source": [
    "# Creating a dictionary\n",
    "fruit_colors = {\"apple\": \"red\", \"banana\": \"yellow\", \"cherry\": \"red\"}\n",
    "print(fruit_colors)  # Output: {'apple': 'red', 'banana': 'yellow', 'cherry': 'red'}\n",
    "\n",
    "# Accessing a value by key\n",
    "print(fruit_colors[\"banana\"])  # Output: 'yellow'\n",
    "\n",
    "# Adding a new key-value pair\n",
    "fruit_colors[\"orange\"] = \"orange\"\n",
    "print(fruit_colors)  # Output: {'apple': 'red', 'banana': 'yellow', 'cherry': 'red', 'orange': 'orange'}\n",
    "\n",
    "# Removing a key-value pair\n",
    "del fruit_colors[\"banana\"]\n",
    "print(fruit_colors)  # Output: {'apple': 'red', 'cherry': 'red', 'orange': 'orange'}"
   ]
  },
  {
   "cell_type": "code",
   "execution_count": 12,
   "metadata": {},
   "outputs": [
    {
     "name": "stdout",
     "output_type": "stream",
     "text": [
      "Hello Alice\n",
      "Alice is 30 years old.\n",
      "Hello\n",
      "HELLO ALICE\n",
      "hello alice\n",
      "True\n",
      "Hello Bob\n"
     ]
    }
   ],
   "source": [
    "# String concatenation\n",
    "greeting = \"Hello\"\n",
    "name = \"Alice\"\n",
    "message = greeting + \" \" + name\n",
    "print(message)  # Output: Hello Alice\n",
    "\n",
    "# String formatting using f-strings\n",
    "age = 30\n",
    "formatted_message = f\"{name} is {age} years old.\"\n",
    "print(formatted_message)  # Output: Alice is 30 years old.\n",
    "\n",
    "# String slicing\n",
    "substring = message[0:5]\n",
    "print(substring)  # Output: Hello\n",
    "\n",
    "# String methods\n",
    "upper_case_message = message.upper()\n",
    "print(upper_case_message)  # Output: HELLO ALICE\n",
    "\n",
    "lower_case_message = message.lower()\n",
    "print(lower_case_message)  # Output: hello alice\n",
    "\n",
    "# Checking if a substring is in a string\n",
    "contains_hello = \"Hello\" in message\n",
    "print(contains_hello)  # Output: True\n",
    "\n",
    "# Replacing a substring\n",
    "new_message = message.replace(\"Alice\", \"Bob\")\n",
    "print(new_message)  # Output: Hello Bob"
   ]
  },
  {
   "cell_type": "code",
   "execution_count": null,
   "metadata": {},
   "outputs": [],
   "source": [
    "# List example\n",
    "my_list = [1, 2, 3, 4, 5]\n",
    "print(\"List:\", my_list)  # Output: List: [1, 2, 3, 4, 5]\n",
    "\n",
    "# Lists are mutable, meaning you can change their content\n",
    "my_list.append(6)\n",
    "print(\"List after append:\", my_list)  # Output: List after append: [1, 2, 3, 4, 5, 6]\n",
    "\n",
    "# Tuple example\n",
    "my_tuple = (1, 2, 3, 4, 5)\n",
    "print(\"Tuple:\", my_tuple)  # Output: Tuple: (1, 2, 3, 4, 5)\n",
    "\n",
    "# Tuples are immutable, meaning you cannot change their content\n",
    "# my_tuple.append(6)  # This will raise an AttributeError\n",
    "\n",
    "# Set example\n",
    "my_set = {1, 2, 3, 4, 5}\n",
    "print(\"Set:\", my_set)  # Output: Set: {1, 2, 3, 4, 5}\n",
    "\n",
    "# Sets are mutable, but they do not allow duplicate elements\n",
    "my_set.add(6)\n",
    "print(\"Set after add:\", my_set)  # Output: Set after add: {1, 2, 3, 4, 5, 6}\n",
    "my_set.add(3)  # Adding a duplicate element has no effect\n",
    "print(\"Set after adding duplicate:\", my_set)  # Output: Set after adding duplicate: {1, 2, 3, 4, 5, 6}"
   ]
  },
  {
   "cell_type": "markdown",
   "metadata": {},
   "source": [
    "### Anonymous lamda"
   ]
  },
  {
   "cell_type": "code",
   "execution_count": 19,
   "metadata": {
    "vscode": {
     "languageId": "shellscript"
    }
   },
   "outputs": [
    {
     "name": "stdout",
     "output_type": "stream",
     "text": [
      "20\n",
      "9\n",
      "3\n"
     ]
    }
   ],
   "source": [
    "# function without a name\n",
    "multiply = lambda x, y: x * y\n",
    "print(multiply(4, 5))\n",
    "\n",
    "sum = lambda x, y: x + y\n",
    "print(sum(4, 5))\n",
    "\n",
    "remainder = lambda x, y: x % y\n",
    "print(remainder(23, 5))"
   ]
  },
  {
   "cell_type": "code",
   "execution_count": 24,
   "metadata": {},
   "outputs": [
    {
     "name": "stdout",
     "output_type": "stream",
     "text": [
      "2034568483\n"
     ]
    }
   ],
   "source": [
    "def test(n):\n",
    "    return lambda x: x * n\n",
    "\n",
    "test_1 = test(18797)\n",
    "print(test_1(108239))"
   ]
  },
  {
   "cell_type": "code",
   "execution_count": 26,
   "metadata": {},
   "outputs": [
    {
     "name": "stdout",
     "output_type": "stream",
     "text": [
      "There is no 'X' in the message\n"
     ]
    }
   ],
   "source": [
    "message = \"DeepSeek is taking on OpenAI\"\n",
    "for item in message:\n",
    "    if item == \"X\":\n",
    "        break\n",
    "\n",
    "else: \n",
    "    print(\"There is no 'X' in the message\")"
   ]
  },
  {
   "cell_type": "code",
   "execution_count": null,
   "metadata": {},
   "outputs": [
    {
     "name": "stdout",
     "output_type": "stream",
     "text": [
      "Access granted\n",
      "Access granted\n"
     ]
    }
   ],
   "source": [
    "# password checking program\n",
    "for x in range(12):\n",
    "    password = input(\"Enter your password: \")\n",
    "    if password == \"password\":\n",
    "        break\n",
    "    print(\"Access granted\")\n",
    "else:\n",
    "    print(\"Access denied\")\n",
    "    print(\"Thank you for your patience\")"
   ]
  },
  {
   "cell_type": "code",
   "execution_count": null,
   "metadata": {},
   "outputs": [],
   "source": []
  }
 ],
 "metadata": {
  "kernelspec": {
   "display_name": "env",
   "language": "python",
   "name": "python3"
  },
  "language_info": {
   "codemirror_mode": {
    "name": "ipython",
    "version": 3
   },
   "file_extension": ".py",
   "mimetype": "text/x-python",
   "name": "python",
   "nbconvert_exporter": "python",
   "pygments_lexer": "ipython3",
   "version": "3.8.10"
  }
 },
 "nbformat": 4,
 "nbformat_minor": 2
}
