{
 "cells": [
  {
   "cell_type": "code",
   "execution_count": 53,
   "id": "8fb2e9aa-1fc1-4a74-90c7-3dae13ff6f54",
   "metadata": {},
   "outputs": [
    {
     "name": "stderr",
     "output_type": "stream",
     "text": [
      "/home/wanyua/anaconda3/lib/python3.12/site-packages/sklearn/base.py:493: UserWarning: X does not have valid feature names, but DecisionTreeClassifier was fitted with feature names\n",
      "  warnings.warn(\n"
     ]
    },
    {
     "data": {
      "text/plain": [
       "array(['HipHop', 'Dance'], dtype=object)"
      ]
     },
     "execution_count": 53,
     "metadata": {},
     "output_type": "execute_result"
    }
   ],
   "source": [
    "import pandas as pd\n",
    "from sklearn.tree import DecisionTreeClassifier\n",
    "from sklearn.model_selection import train_test_split\n",
    "from sklearn.metrics import accuracy_score\n",
    "import joblib\n",
    "\n",
    "\n",
    "# music_data = pd.read_csv('music.csv')\n",
    "# # split data into input and output\n",
    "# X =music_data.drop(columns=['genre'])\n",
    "# y = music_data['genre']\n",
    "\n",
    "# X_train, X_test, y_train, y_test = train_test_split(X,y, test_size=0.2)\n",
    "# model = DecisionTreeClassifier()\n",
    "# model.fit(X_train,y_train)\n",
    "\n",
    "# joblib.dump(model, 'music-recommender.joblib')\n",
    "model = joblib.load('music-recommender.joblib')\n",
    "predictions = model.predict([[21,1],[22,0]])\n",
    "predictions\n",
    "# predict\n",
    "# predictions = model.predict(X_test)\n",
    "# testing the accuracy\n",
    "# score = accuracy_score(y_test, predictions)\n",
    "# score\n"
   ]
  },
  {
   "cell_type": "code",
   "execution_count": null,
   "id": "845b8781-9085-4f3c-98f9-8e130aae5269",
   "metadata": {},
   "outputs": [],
   "source": []
  }
 ],
 "metadata": {
  "kernelspec": {
   "display_name": "Python 3 (ipykernel)",
   "language": "python",
   "name": "python3"
  },
  "language_info": {
   "codemirror_mode": {
    "name": "ipython",
    "version": 3
   },
   "file_extension": ".py",
   "mimetype": "text/x-python",
   "name": "python",
   "nbconvert_exporter": "python",
   "pygments_lexer": "ipython3",
   "version": "3.12.4"
  }
 },
 "nbformat": 4,
 "nbformat_minor": 5
}
